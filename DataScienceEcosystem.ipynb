{
 "cells": [
  {
   "cell_type": "markdown",
   "id": "91856a43-eac5-45ba-bba7-e3b2c37d934e",
   "metadata": {},
   "source": [
    "# Data Science Tools and Ecosystem"
   ]
  },
  {
   "cell_type": "markdown",
   "id": "423c2f03-9269-477a-82e4-1aab6c72f495",
   "metadata": {},
   "source": [
    "# In this notebook, Data Science Tools and Ecosystem are summarized."
   ]
  },
  {
   "cell_type": "markdown",
   "id": "872024be-7f67-4c9b-b9f4-6da3a9c8b340",
   "metadata": {},
   "source": [
    "# Some of the popular languages that Data Scientists use are:\n",
    "1. Pyrhon\n",
    "2. R\n",
    "3. Java"
   ]
  },
  {
   "cell_type": "markdown",
   "id": "6af40857-c9fb-4a1a-8ce9-01531e346d86",
   "metadata": {},
   "source": [
    "# Some of the commonly used libraries used by Data Scientists include:\n",
    "1. Numpy\n",
    "2. Pandas\n",
    "3. Scikit Learn"
   ]
  },
  {
   "cell_type": "markdown",
   "id": "e029cb38-df32-4752-8673-f79d96649f90",
   "metadata": {},
   "source": [
    "# Data Science Tools\n",
    "| Data Science Tools |\n",
    "| ------------------ |\n",
    "| Jupyter Notebook   |\n",
    "| Apache Spark       |\n",
    "| Julia              |"
   ]
  },
  {
   "cell_type": "markdown",
   "id": "c36aabf0-829d-42f1-adef-828c19a1572b",
   "metadata": {},
   "source": [
    "### Below are a few examples of evaluating arithmetic expressions in Python"
   ]
  },
  {
   "cell_type": "markdown",
   "id": "c84324ef-89ff-4ff5-a876-746de88ca2c2",
   "metadata": {},
   "source": [
    "This a simple arithmetic expression to mutiply then add integers"
   ]
  },
  {
   "cell_type": "code",
   "execution_count": 2,
   "id": "3fdcc9e3-3b9e-4ae8-ba7f-97eca88fdec1",
   "metadata": {},
   "outputs": [
    {
     "data": {
      "text/plain": [
       "17"
      ]
     },
     "execution_count": 2,
     "metadata": {},
     "output_type": "execute_result"
    }
   ],
   "source": [
    "(3*4)+5"
   ]
  },
  {
   "cell_type": "markdown",
   "id": "1ed8ae69-5f9c-4eb6-be9e-2224bdac5f4e",
   "metadata": {},
   "source": [
    "This will convert 200 minutes to hours by diving by 60"
   ]
  },
  {
   "cell_type": "code",
   "execution_count": 3,
   "id": "290e8a34-bed3-4dbb-b62c-33b0b730eabc",
   "metadata": {},
   "outputs": [
    {
     "data": {
      "text/plain": [
       "3.3333333333333335"
      ]
     },
     "execution_count": 3,
     "metadata": {},
     "output_type": "execute_result"
    }
   ],
   "source": [
    "200/60"
   ]
  },
  {
   "cell_type": "markdown",
   "id": "bdd35028-94e9-46ba-9f46-76b38e4325fc",
   "metadata": {},
   "source": [
    "**Objectives:**\n",
    "\n",
    "**List popular languages for Data Science**\n",
    "\n",
    "* Python\n",
    "* R\n",
    "* Scala"
   ]
  },
  {
   "cell_type": "markdown",
   "id": "9f967b3b-1220-449e-b4c5-c7c298600873",
   "metadata": {},
   "source": [
    "## Author:\n",
    "Pranav Kulkarni"
   ]
  }
 ],
 "metadata": {
  "kernelspec": {
   "display_name": "Python 3 (ipykernel)",
   "language": "python",
   "name": "python3"
  },
  "language_info": {
   "codemirror_mode": {
    "name": "ipython",
    "version": 3
   },
   "file_extension": ".py",
   "mimetype": "text/x-python",
   "name": "python",
   "nbconvert_exporter": "python",
   "pygments_lexer": "ipython3",
   "version": "3.12.8"
  }
 },
 "nbformat": 4,
 "nbformat_minor": 5
}
